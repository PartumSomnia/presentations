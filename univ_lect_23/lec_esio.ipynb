{
 "cells": [
  {
   "attachments": {},
   "cell_type": "markdown",
   "metadata": {},
   "source": [
    "# Derive the Eiso\n",
    "\n",
    "Consider a gravitational collapse of a source with initial $R_0$ to $R < R_0$. Estimate the released energy.  \n",
    "Hint: use estimations of total energy of initial and final configurations and virial theorem.  \n",
    "\n",
    "Consider virial theorem (total energy is of the order of graviational energy). \n",
    "$$\n",
    "\\Delta E \\sim \\Delta E_{\\rm grav}\n",
    "$$\n",
    "As $E_{\\rm grav}\\propto1/r$, we can assume\n",
    "$$\n",
    "\\Delta E \\sim - E_{\\rm grav}|_{2} \\simeq \\frac{G H^2}{R} \\simeq \\alpha \\frac{GH}{Rc^2}Mc^2\n",
    "$$ \n",
    "\n",
    "Here $GH^2/Rc^2$ is called `compactness` (ratio of the gravitational radius to the source physical radius) and it is $\\gtrsim 0.1$ for NS and $1$ for a BH. \n",
    "The term $Mc^2 \\propto 10^{53}M/M_{\\odot}$.  \n",
    "So, \n",
    "$$\n",
    "\\Delta E_{\\rm coll} = \\alpha \\frac{G M^2}{E} \\simeq 2\\alpha 10^{53}\\frac{GM/Rc^2}{0.1}\\frac{M}{M_{\\odot}}\n",
    "$$\n",
    "\n",
    "This collapse occure on a dynamical tymescale $\\simeq$ seconds. \n",
    "\n",
    "Next, consider the region of a size $R$. Signal variation timescale $t_{\\rm var}$. Than, on a casuality grounds, $R \\lesssim ct_{\\rm var}$. "
   ]
  },
  {
   "cell_type": "markdown",
   "metadata": {},
   "source": []
  }
 ],
 "metadata": {
  "language_info": {
   "name": "python"
  },
  "orig_nbformat": 4
 },
 "nbformat": 4,
 "nbformat_minor": 2
}
